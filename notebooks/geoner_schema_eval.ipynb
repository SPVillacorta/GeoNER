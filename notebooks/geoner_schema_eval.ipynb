{
  "nbformat": 4,
  "nbformat_minor": 0,
  "metadata": {
    "colab": {
      "provenance": [],
      "authorship_tag": "ABX9TyPkVg+y+bHizstQixMr5mFN",
      "include_colab_link": true
    },
    "kernelspec": {
      "name": "python3",
      "display_name": "Python 3"
    },
    "language_info": {
      "name": "python"
    }
  },
  "cells": [
    {
      "cell_type": "markdown",
      "metadata": {
        "id": "view-in-github",
        "colab_type": "text"
      },
      "source": [
        "<a href=\"https://colab.research.google.com/github/SPVillacorta/GeoNER/blob/main/geoner_model_evaluation.ipynb\" target=\"_parent\"><img src=\"https://colab.research.google.com/assets/colab-badge.svg\" alt=\"Open In Colab\"/></a>"
      ]
    },
    {
      "cell_type": "markdown",
      "source": [
        "# Evaluating the Performance of a Trained NER Model using a Confusion Matrix\n",
        "\n",
        "This notebook demonstrates how to evaluate the performance of a pre-trained Named Entity Recognition (NER) model using a confusion matrix and classification report. It specifically leverages the Flair NLP framework and `scikit-learn` for evaluation.\n",
        "\n",
        "**Important Note:**\n",
        "This notebook expects a specific folder structure within your Colab environment (or local environment if run outside Colab) to locate the model, PDF files, and annotated data. Make sure to upload or clone your repository to match this structure:"
      ],
      "metadata": {
        "id": "1BZdDbdzxl6N"
      }
    },
    {
      "cell_type": "code",
      "execution_count": null,
      "metadata": {
        "id": "bBIxqRZ35ED8"
      },
      "outputs": [],
      "source": [
        "## 0. Setup and Dependencies\n",
        "\n",
        "First, we need to install the required libraries and download necessary NLTK data.\n",
        "\n",
        "```python\n",
        "# Install required libraries\n",
        "!pip install flair pdfplumber pdfminer scikit-learn pandas seaborn matplotlib numpy\n",
        "\n",
        "# Import necessary modules\n",
        "import glob\n",
        "import nltk\n",
        "import matplotlib.pyplot as plt\n",
        "import numpy as np\n",
        "import os\n",
        "import pdfplumber\n",
        "import pdfminer\n",
        "import pandas as pd\n",
        "import seaborn as sns\n",
        "import flair\n",
        "from flair.data import Corpus, Sentence\n",
        "from flair.datasets import ColumnCorpus\n",
        "from flair.embeddings import FlairEmbeddings, StackedEmbeddings\n",
        "from flair.models import SequenceTagger\n",
        "from flair.trainers import ModelTrainer\n",
        "from pdfminer.pdfdocument import PDFNoValidXRef\n",
        "from pdfminer.psparser import PSEOF\n",
        "from sklearn.metrics import confusion_matrix, classification_report\n",
        "from typing import List\n",
        "\n",
        "# Download NLTK data\n",
        "nltk.download(\"punkt\")"
      ]
    },
    {
      "cell_type": "code",
      "source": [
        "# Clone the GeoNER GitHub repository\n",
        "!git clone [https://github.com/SPVillacorta/GeoNER.git](https://github.com/SPVillacorta/GeoNER.git)\n",
        "\n",
        "# Change the current working directory to the cloned repository's root.\n",
        "# This ensures all relative paths (e.g., './ozrock/...') work correctly.\n",
        "import os\n",
        "os.chdir(\"GeoNER\")\n",
        "print(f\"Current working directory set to: {os.getcwd()}\")\n",
        "!ls -F # Verify the contents of the current directory; you should see 'ozrock/'"
      ],
      "metadata": {
        "id": "LSduSYt9xnTL"
      },
      "execution_count": null,
      "outputs": []
    }
  ]
}
